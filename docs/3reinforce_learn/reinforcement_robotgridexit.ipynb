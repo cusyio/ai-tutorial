{
 "cells": [
  {
   "cell_type": "markdown",
   "id": "035b5e96",
   "metadata": {},
   "source": [
    "# Praxisbeispiel - Reinforcement Learning Hands-on: Roboter im Raum\n",
    "\n",
    "In diesem Notebook wird ein einfacher Q‑Learning-Algorithmus implementiert, mit dem ein Roboter (Agent) lernt, einen Ausgang in einem 2D-Gitter zu finden. Die Visualisierung ermöglicht es, den Entscheidungsprozess und die Pfadfindung Schritt für Schritt nachzuvollziehen."
   ]
  },
  {
   "cell_type": "code",
   "execution_count": 1,
   "id": "de8dfcf2",
   "metadata": {},
   "outputs": [],
   "source": [
    "import numpy as np\n",
    "import matplotlib.pyplot as plt\n",
    "import time\n",
    "from IPython.display import clear_output\n",
    "\n",
    "# Für Inline-Plots in Jupyter\n",
    "%matplotlib inline"
   ]
  },
  {
   "cell_type": "markdown",
   "id": "03ad23b5",
   "metadata": {},
   "source": [
    "## Definition der Umgebung: GridWorld\n",
    "\n",
    "Die Umgebung wird als 2D-Gitter modelliert, in dem der Roboter sich bewegen kann. Der Ausgang (Goal) wird als Zielzelle definiert."
   ]
  },
  {
   "cell_type": "code",
   "execution_count": 3,
   "id": "b48b48c4",
   "metadata": {},
   "outputs": [],
   "source": [
    "class GridWorld:\n",
    "    \"\"\"\n",
    "    Ein einfaches 2D-Grid, worin ein Agent von einer Start- zu einer Zielposition navigieren soll.\n",
    "    \n",
    "    Attribute:\n",
    "        width (int): Breite des Gitters (Anzahl Spalten).\n",
    "        height (int): Höhe des Gitters (Anzahl Zeilen).\n",
    "        start (tuple): Startposition des Agenten als (x, y).\n",
    "        goal (tuple): Zielposition (Ausgang) als (x, y).\n",
    "        agent_pos (tuple): Aktuelle Position des Agenten als (x, y).\n",
    "    \"\"\"\n",
    "    def __init__(self, width, height, start, goal):\n",
    "        \"\"\"\n",
    "        Initialisiert die Gitterwelt mit den angegebenen Dimensionen und Positionen.\n",
    "\n",
    "        Args:\n",
    "            width (int): Breite des Gitters.\n",
    "            height (int): Höhe des Gitters.\n",
    "            start (tuple): Startposition des Agenten als (x, y).\n",
    "            goal (tuple): Zielposition (Ausgang) als (x, y).\n",
    "        \"\"\"\n",
    "        self.width = width\n",
    "        self.height = height\n",
    "        self.start = start\n",
    "        self.goal = goal\n",
    "        self.reset()\n",
    "\n",
    "    def reset(self):\n",
    "        \"\"\"\n",
    "        Setzt die Agentenposition auf die Startposition zurück (nach jeder Episode notwendig). \n",
    "\n",
    "        Returns:\n",
    "            tuple: Die aktuelle (zurückgesetzte) Position des Agenten (x, y).\n",
    "        \"\"\"\n",
    "        self.agent_pos = self.start\n",
    "        return self.agent_pos\n",
    "\n",
    "    def step(self, action):\n",
    "        \"\"\"\n",
    "        Führt einen Schritt in der Umgebung basierend auf der gegebenen Aktion aus.\n",
    "\n",
    "        Aktionen werden wie folgt kodiert:\n",
    "            0 = oben\n",
    "            1 = rechts\n",
    "            2 = unten\n",
    "            3 = links\n",
    "\n",
    "        Args:\n",
    "            action (int): Index der gewählten Aktion (0 bis 3).\n",
    "\n",
    "        Returns:\n",
    "            tuple: Nächste Agentenposition (x, y) nach dem Schritt.\n",
    "            float: Belohnung (Reward) für diesen Schritt.\n",
    "            bool: True, falls das Ziel erreicht ist; False sonst.\n",
    "        \"\"\"\n",
    "        x, y = self.agent_pos\n",
    "        if action == 0:   # nach oben\n",
    "            y = max(y - 1, 0)\n",
    "        elif action == 1: # nach rechts\n",
    "            x = min(x + 1, self.width - 1)\n",
    "        elif action == 2: # nach unten\n",
    "            y = min(y + 1, self.height - 1)\n",
    "        elif action == 3: # nach links\n",
    "            x = max(x - 1, 0)\n",
    "        self.agent_pos = (x, y)\n",
    "        reward = -1  # Schrittkosten\n",
    "        done = False\n",
    "        if self.agent_pos == self.goal:\n",
    "            reward = 100\n",
    "            done = True\n",
    "        return self.agent_pos, reward, done\n",
    "\n",
    "    def render(self):\n",
    "        \"\"\"\n",
    "        Visualisiert die aktuelle Umgebung mit Hilfe von Matplotlib.\n",
    "\n",
    "        - Zielzelle wird mit Grauton 0.5 dargestellt.\n",
    "        - Agentenposition wird mit Weiß (1.0) dargestellt.\n",
    "        \"\"\"\n",
    "        grid = np.zeros((self.height, self.width))\n",
    "        # Zielzelle markieren\n",
    "        grid[self.goal[1], self.goal[0]] = 0.5\n",
    "        # Agentenposition markieren\n",
    "        grid[self.agent_pos[1], self.agent_pos[0]] = 1\n",
    "        plt.imshow(grid, cmap='gray_r')\n",
    "        plt.xticks(range(self.width))\n",
    "        plt.yticks(range(self.height))\n",
    "        plt.show()\n",
    "        plt.close()"
   ]
  },
  {
   "cell_type": "markdown",
   "id": "9bf1d35a",
   "metadata": {},
   "source": [
    "## Q‑Learning Parameter und Initialisierung\n",
    "\n",
    "Wir definieren die Lernparameter sowie die Q‑Tabelle. Die Aktionen werden wie folgt kodiert:\n",
    "\n",
    "- 0: oben\n",
    "- 1: rechts\n",
    "- 2: unten\n",
    "- 3: links"
   ]
  },
  {
   "cell_type": "code",
   "execution_count": 22,
   "id": "443839ad",
   "metadata": {},
   "outputs": [],
   "source": [
    "# Lernparameter\n",
    "alpha = 0.1      # Lernrate\n",
    "gamma = 0.9      # Diskontfaktor\n",
    "epsilon = 0.2    # Explorationsrate \n",
    "episodes = 5     # Episoden\n",
    "\n",
    "# Erstelle die Umgebung\n",
    "env = GridWorld(4, 4, start=(0, 0), goal=(2, 3))\n",
    "\n",
    "# Q‑Tabelle initialisieren: Dimensionen (Breite, Höhe, Anzahl Aktionen)\n",
    "Q = np.zeros((env.width, env.height, 4))\n",
    "\n",
    "def choose_action(state, Q, eps):\n",
    "    \"\"\"\n",
    "    Wählt eine Aktion nach einer einfachen epsilon-greedy-Strategie (deterministische Variante).\n",
    "\n",
    "    Diese Funktion prüft, ob eine Zufallszahl < epsilon ist:\n",
    "      - Falls ja, wird eine zufällige Aktion (0-3) gewählt (exploration).\n",
    "      - Falls nein, wird die Aktion mit dem höchsten Q-Wert gewählt (exploitation).\n",
    "\n",
    "    Args:\n",
    "        state (tuple): Aktueller Zustand des Agenten als (x, y).\n",
    "        Q (numpy.ndarray): Q-Tabelle der Form (width, height, 4).\n",
    "        epsilon (float): Wahrscheinlichkeit für zufällige Exploration (Wert zwischen 0 und 1).\n",
    "\n",
    "    Returns:\n",
    "        int: Index der gewählten Aktion (0 bis 3).\n",
    "    \"\"\"    \n",
    "    if np.random.rand() < eps:\n",
    "        return np.random.randint(4)\n",
    "    else:\n",
    "        x, y = state\n",
    "        return np.argmax(Q[x, y, :])\n",
    "\n"
   ]
  },
  {
   "cell_type": "markdown",
   "id": "9dfb151e",
   "metadata": {},
   "source": [
    "## Training mit schrittweisr Grid-Visualisierung\n",
    "\n",
    "In jeder Episode wird der Agent von der Startposition aus agieren, bis er den Ausgang erreicht. Nach jedem Schritt wird die aktuelle Position visualisiert."
   ]
  },
  {
   "cell_type": "code",
   "execution_count": 23,
   "id": "bd3248b2",
   "metadata": {},
   "outputs": [
    {
     "data": {
      "image/png": "[encoded data removed]",
      "text/plain": [
       "<Figure size 640x480 with 1 Axes>"
      ]
     },
     "metadata": {},
     "output_type": "display_data"
    }
   ],
   "source": [
    "# Training mit schrittweiser Visualisierung\n",
    "for ep in range(episodes):\n",
    "    state = env.reset()\n",
    "    done = False\n",
    "    step_count = 0\n",
    "    \n",
    "    while not done:\n",
    "        # Aktion wählen \n",
    "        action = choose_action(state, Q, epsilon)\n",
    "\n",
    "        # Schritt in der Umgebung ausführen \n",
    "        next_state, reward, done = env.step(action)\n",
    "\n",
    "        # Q-Update \n",
    "        x, y = state\n",
    "        nx, ny = next_state\n",
    "        Q[x, y, action] += alpha * (reward + gamma * np.max(Q[nx, ny, :]) - Q[x, y, action])\n",
    "\n",
    "        # Zustand updaten\n",
    "        state = next_state\n",
    "        step_count += 1\n",
    "        \n",
    "        # Visualisierung aktualisieren\n",
    "        clear_output(wait=True)\n",
    "        grid = np.zeros((env.height, env.width))\n",
    "        grid[env.goal[1], env.goal[0]] = 0.5  # Zielzelle\n",
    "        grid[env.agent_pos[1], env.agent_pos[0]] = 1  # Agentenposition\n",
    "        plt.imshow(grid, cmap='gray_r')\n",
    "        plt.title(f'Episode {ep+1}, Schritt {step_count}')\n",
    "        plt.xticks(range(env.width))\n",
    "        plt.yticks(range(env.height))\n",
    "        plt.show()\n",
    "        time.sleep(0.1)"
   ]
  },
  {
   "cell_type": "markdown",
   "id": "6705fa37-4335-4f70-b88a-04f7e95e1ac1",
   "metadata": {},
   "source": [
    "## Training, mit schrittweiser Grid-Visualisierung und simultanen Q-Table Wahrscheinlichkeiten für mögliche Aktionen"
   ]
  },
  {
   "cell_type": "code",
   "execution_count": 24,
   "id": "dc0157b5-d78c-4bf4-802a-98cbacad9725",
   "metadata": {},
   "outputs": [
    {
     "data": {
      "image/png": "[encoded data removed]",
      "text/plain": [
       "<Figure size 640x480 with 1 Axes>"
      ]
     },
     "metadata": {},
     "output_type": "display_data"
    },
    {
     "name": "stdout",
     "output_type": "stream",
     "text": [
      "Episode 5 completed.\n"
     ]
    }
   ],
   "source": [
    "# Action names for visualization (4 actions: 0: Up, 1: Right, 2: Down, 3: Left)\n",
    "action_names = [\"Up\", \"Right\", \"Down\", \"Left\"]\n",
    "\n",
    "def get_action_probabilities(state, Q, eps):\n",
    "    \"\"\"\n",
    "    Compute the epsilon-greedy probabilities for actions at the given state.\n",
    "    \n",
    "    Each action gets a base probability of eps/4, and the best action (argmax of Q-values)\n",
    "    gets an additional probability mass of (1 - eps).\n",
    "\n",
    "    Args:\n",
    "        state (tuple): The current state as (x, y).\n",
    "        Q (np.ndarray): Q-table with shape (width, height, 4).\n",
    "        eps (float): Epsilon value (exploration rate).\n",
    "        \n",
    "    Returns:\n",
    "        numpy.ndarray: A vector of probabilities for the 4 actions.\n",
    "    \"\"\"\n",
    "    x, y = state\n",
    "    q_vals = Q[x, y, :]\n",
    "    best_action = np.argmax(q_vals)\n",
    "    probs = np.ones(4) * (eps / 4.0)\n",
    "    probs[best_action] += (1.0 - eps)\n",
    "    return probs\n",
    "\n",
    "# Training mit schrittweiser Visualisierung, inklusive Grid und der aktuellen Options-Wahrscheinlichkeiten und der gewählten Aktion \n",
    "for ep in range(episodes):\n",
    "    state = env.reset()\n",
    "    done = False\n",
    "    step_count = 0\n",
    "\n",
    "    while not done:\n",
    "        clear_output(wait=True)\n",
    "        # Erstelle eine neue Figur für diesen Schritt\n",
    "        fig, ax = plt.subplots(figsize=(6, 4))\n",
    "        \n",
    "        # Erstelle neues Grid-Display: 0 = leer, 0.5 = Ziel, 1 = Agent\n",
    "        grid = np.zeros((env.height, env.width))\n",
    "        grid[env.goal[1], env.goal[0]] = 0.5  # mark goal\n",
    "        grid[env.agent_pos[1], env.agent_pos[0]] = 1  # Agents aktuelle Position\n",
    "        \n",
    "        # Plotte das Grid (Gitter)\n",
    "        ax.imshow(grid, cmap='gray_r', vmin=0, vmax=1)\n",
    "        ax.set_xticks(range(env.width))\n",
    "        ax.set_yticks(range(env.height))\n",
    "        ax.set_title(f\"Episode {ep+1}, Step {step_count+1}\")\n",
    "        \n",
    "        # Berechne epsilon-Greedy- Aktions-Wahrscheinlichkeiten für den aktuellen Zustand\n",
    "        probs = get_action_probabilities(state, Q, epsilon)\n",
    "        # Wähle eine Aktion anhand der bestehenden Epsilon-Greedy-Funktion\n",
    "        action = choose_action(state, Q, epsilon)\n",
    "        \n",
    "        # Zeige die berechneten Wahrscheinlichkeiten und die gewählte aktion nebem dem Grid \n",
    "        text_str = (\n",
    "            f\"Action probabilities:\\n\"\n",
    "            f\"Up: {probs[0]:.2f}\\n\"\n",
    "            f\"Right: {probs[1]:.2f}\\n\"\n",
    "            f\"Down: {probs[2]:.2f}\\n\"\n",
    "            f\"Left: {probs[3]:.2f}\\n\\n\"\n",
    "            f\"Chosen action: {action} ({action_names[action]})\"\n",
    "        )\n",
    "        # Text rechts vom Raster platzieren, ggf. Koordination anpassen\n",
    "        ax.text(env.width + 0.5, env.height/2, text_str, fontsize=10, va='center')\n",
    "        \n",
    "        plt.tight_layout()\n",
    "        plt.show()\n",
    "        \n",
    "        # Führe die Aktion durch und aktualisiere den Q-Wert\n",
    "        next_state, reward, done = env.step(action)\n",
    "        nx, ny = next_state\n",
    "        Q[state[0], state[1], action] += alpha * (reward + gamma * np.max(Q[nx, ny, :]) - Q[state[0], state[1], action])\n",
    "        state = next_state\n",
    "        step_count += 1\n",
    "        \n",
    "        time.sleep(1)  # Pause, damit der Schritt sichtbar ist\n",
    "    \n",
    "    # End-of-eEpisode Message\n",
    "    clear_output(wait=True)\n",
    "    env.render()\n",
    "    print(f\"Episode {ep+1} completed.\")\n",
    "    time.sleep(1.0)"
   ]
  },
  {
   "cell_type": "markdown",
   "id": "73b7e6b3",
   "metadata": {},
   "source": [
    "## Trainiertes Modell: Darstellung des optimalen Pfads\n",
    "\n",
    "Nach dem Training wird der Agent den erlernten (nahezu) optimalen Pfad zum Ausgang demonstrieren."
   ]
  },
  {
   "cell_type": "code",
   "execution_count": 25,
   "id": "40b97f48",
   "metadata": {},
   "outputs": [
    {
     "data": {
      "image/png": "[encoded data removed]",
      "text/plain": [
       "<Figure size 640x480 with 1 Axes>"
      ]
     },
     "metadata": {},
     "output_type": "display_data"
    }
   ],
   "source": [
    "# Reset und initialisiere Pfadspeicher\n",
    "state = env.reset()\n",
    "done = False\n",
    "path = [state]\n",
    "\n",
    "while not done and len(path) < 100:\n",
    "    x, y = state\n",
    "    action = np.argmax(Q[x, y, :])\n",
    "    state, _, done = env.step(action)\n",
    "    path.append(state)\n",
    "\n",
    "# Visualisierung des gefundenen Pfads\n",
    "grid = np.zeros((env.height, env.width))\n",
    "grid[env.goal[1], env.goal[0]] = 0.5  # Zielzelle\n",
    "plt.imshow(grid, cmap='gray_r')\n",
    "x_coords = [pos[0] for pos in path]\n",
    "y_coords = [pos[1] for pos in path]\n",
    "plt.plot(x_coords, y_coords, marker='o', color='blue')\n",
    "plt.title('Optimierter Pfad zum Ausgang')\n",
    "plt.xticks(range(env.width))\n",
    "plt.yticks(range(env.height))\n",
    "plt.show()"
   ]
  },
  {
   "cell_type": "code",
   "execution_count": null,
   "id": "e1511177-edd4-487d-80a0-4fdd101b1eda",
   "metadata": {},
   "outputs": [],
   "source": []
  },
  {
   "cell_type": "code",
   "execution_count": null,
   "id": "76167e23-5e56-4ee3-bc1d-a5f09dafdfda",
   "metadata": {},
   "outputs": [],
   "source": []
  },
  {
   "cell_type": "code",
   "execution_count": null,
   "id": "a4e949b8-5b79-44f0-918b-c09a2fcd5071",
   "metadata": {},
   "outputs": [],
   "source": []
  }
 ],
 "metadata": {
  "kernelspec": {
   "display_name": "Python 3 (ipykernel)",
   "language": "python",
   "name": "python3"
  },
  "language_info": {
   "codemirror_mode": {
    "name": "ipython",
    "version": 3
   },
   "file_extension": ".py",
   "mimetype": "text/x-python",
   "name": "python",
   "nbconvert_exporter": "python",
   "pygments_lexer": "ipython3",
   "version": "3.12.9"
  }
 },
 "nbformat": 4,
 "nbformat_minor": 5
}
